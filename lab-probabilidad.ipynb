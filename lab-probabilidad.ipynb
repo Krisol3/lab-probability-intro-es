{
 "cells": [
  {
   "cell_type": "markdown",
   "metadata": {},
   "source": [
    "# Probability"
   ]
  },
  {
   "cell_type": "markdown",
   "metadata": {},
   "source": [
    "## Reto 1\n",
    "Hay una caja con 10 bolas blancas, 12 bolas rojas y 8 bolas negras. Calcula la probabilidad de:\n",
    "* Sacar una bola blanca.\n",
    "* Sacar una bola blanca en la primera extracción y una bola negra en la segunda extracción sin reemplazar la primera.\n",
    "* Sacar una bola blanca en la primera extracción y una bola negra en la segunda extracción reemplazando la primera.\n",
    "* Sacar 3 bolas y que sean todas de diferentes colores."
   ]
  },
  {
   "cell_type": "code",
   "execution_count": 3,
   "metadata": {},
   "outputs": [
    {
     "name": "stdout",
     "output_type": "stream",
     "text": [
      "La probabilidad de sacar una bola blanca es de 0.3333333333333333\n",
      "La probabilidad de sacar una bola blanca primero y luego una negra sin reemplazar la primera es de 0.09195402298850575\n",
      "La probabilidad de sacar una bola blanca primero y luego una negra reemplazando la primera es de 0.08888888888888888\n",
      "La probabilidad de sacar una bola de cada dolor es de 0.03940886699507389\n"
     ]
    }
   ],
   "source": [
    "bola_blanca = 10\n",
    "bola_roja = 12\n",
    "bola_negra = 8\n",
    "total_bolas = 30\n",
    "\n",
    "# Sacar una bola blanca\n",
    "prob_bola_blanca = 10 / 30\n",
    "print(f\"La probabilidad de sacar una bola blanca es de {prob_bola_blanca}\")\n",
    "\n",
    "# Sacar una bola blanca en la primera extracción y una bola negra en la segunda extracción sin reemplazar la primera.\n",
    "prob_byn_sin_reemplazo = (bola_blanca / total_bolas) * (bola_negra / (total_bolas - 1))\n",
    "print (f\"La probabilidad de sacar una bola blanca primero y luego una negra sin reemplazar la primera es de {prob_byn_sin_reemplazo}\")\n",
    "\n",
    "# Sacar una bola blanca en la primera extracción y una bola negra en la segunda extracción reemplazando la primera.\n",
    "prob_byn_reemplazo = (bola_blanca / total_bolas) * (bola_negra / (total_bolas))\n",
    "print (f\"La probabilidad de sacar una bola blanca primero y luego una negra reemplazando la primera es de {prob_byn_reemplazo}\")\n",
    "\n",
    "# Sacar 3 bolas y que sean todas de diferentes colores.\n",
    "prob_dif_color = (bola_blanca / total_bolas) * (bola_roja / (total_bolas - 1)) * (bola_negra / (total_bolas - 2))\n",
    "print(f\"La probabilidad de sacar una bola de cada dolor es de {prob_dif_color}\")"
   ]
  },
  {
   "cell_type": "markdown",
   "metadata": {},
   "source": [
    "## Reto 2\n",
    "\n",
    "Quieres ir de picnic el sábado. Odias la lluvia y quieres planificar tu fin de semana. Para ayudarte a tomar una decisión, recopilas los siguientes datos sobre los días lluviosos:\n",
    "\n",
    "* El 40% de todos los días están nublados.\n",
    "* Aproximadamente el 50% de los días nublados son lluviosos.\n",
    "* Aproximadamente el 20% de los días no nublados son lluviosos.\n",
    "\n",
    "¿Cuál es la probabilidad de que llueva el próximo sábado?"
   ]
  },
  {
   "cell_type": "code",
   "execution_count": 4,
   "metadata": {},
   "outputs": [
    {
     "name": "stdout",
     "output_type": "stream",
     "text": [
      "La probabilidad de que llueva el sábado es de 0.6799999999999999\n"
     ]
    }
   ],
   "source": [
    "dias_nublados = 0.40\n",
    "dias_nublados_lluviosos = 0.50 \n",
    "dias_no_nublados_lluviosos = 1 - 0.20\n",
    "dias_no_nublados = 1 - 0.40\n",
    "\n",
    "prob_lluvia = (dias_nublados_lluviosos * dias_nublados) + (dias_no_nublados_lluviosos * dias_no_nublados)\n",
    "print(f\"La probabilidad de que llueva el sábado es de {prob_lluvia}\")"
   ]
  },
  {
   "cell_type": "markdown",
   "metadata": {},
   "source": [
    "## Reto 3\n",
    "\n",
    "A y B son eventos de una probabilidad tal que \\(P(A) = 0.3\\), \\(P(B) = 0.6\\) y \\(P(A \\cap B) = 0.1\\)\n",
    "\n",
    "¿Cuáles de las siguientes afirmaciones son verdaderas?\n",
    "**SUGERENCIA: dibuja un gran diagrama de Venn a tu lado**\n",
    "* \\(P(\\overline{A}) = 0.7\\)\n",
    "* \\(P(A \\cup B) = 0.6\\)\n",
    "* \\(P(A \\cap \\overline{B}) = 0.2\\)\n",
    "* \\(P(A \\cup \\overline{A}) = 1\\)  \n",
    "* \\(P(A \\cap (B \\cup \\overline{B})) = 0.4\\)\n",
    "* \\(P(\\overline{A} \\cap \\overline{B}) = 0.3\\)\n",
    "* \\(P(\\overline{A \\cap B}) = 0.9\\)"
   ]
  },
  {
   "cell_type": "code",
   "execution_count": 16,
   "metadata": {},
   "outputs": [
    {
     "ename": "SyntaxError",
     "evalue": "unexpected character after line continuation character (2027690410.py, line 2)",
     "output_type": "error",
     "traceback": [
      "\u001b[1;36m  Cell \u001b[1;32mIn[16], line 2\u001b[1;36m\u001b[0m\n\u001b[1;33m    P(\\overline{A})= 1−P(A) = 1−0.3 = 0.7\u001b[0m\n\u001b[1;37m       ^\u001b[0m\n\u001b[1;31mSyntaxError\u001b[0m\u001b[1;31m:\u001b[0m unexpected character after line continuation character\n"
     ]
    }
   ],
   "source": [
    "# Frase 1: \\(P(\\overline{A}) = 0.7\\)\n",
    "P(\\overline{A})= 1−P(A) = 1−0.3 = 0.7 \n",
    "  #frase verdadera\n",
    "\n",
    "# Frase 2: \\(P(A \\cap B) = 0.6\\)\n",
    "P(A \\cap B) = = 0.6 \n",
    "P(A∪B)=P(A)+P(B)−P(A∩B)=0.3+0.6−0.1=0.8\n",
    "  # frase falsa 0.6 != 0.8\n",
    "\n",
    "# Frase 3: \\(P(A \\cap \\overline{B}) = 0.2\\)\n",
    "P(A \\cap \\overline{B}) = 0.2\n",
    "  P(A∩B)=P(A)−P(A∩B)=0.3−0.1=0.2\n",
    "    # frase verdadera\n",
    "\n",
    "# Frase 4: \\(P(A \\cap \\overline{A}) = 1\\) \n",
    "P(A \\cap \\overline{A}) = 1\n",
    "P(A∪A)=1\n",
    "    # frase verdadera\n",
    "\n",
    "# Frase 5: \\(P(A \\cap (B \\cap \\overline{B})) = 0.4\\)\n",
    "P(A \\cap (B \\cap \\overline{B})) = 0.4\n",
    "P(A∩(B∪ B))=P(A)=0.3\n",
    "    # frase falsa 0.3 != 0.4\n",
    "          \n",
    "# Frase 6: \\(P(\\overline{A} \\cap \\overline{B}) = 0.3\\)        \n",
    "P(\\overline{A} \\cap \\overline{B}) = 0.3\n",
    "P(A∩B)=1−P(A∪B)=1−0.8=0.2\n",
    "  # frase falsa 0.3 != 0.2\n",
    "\n",
    "# Frase 7: \\(P(\\overline{A \\cap B}) = 0.9\\) \n",
    "P(\\overline{A \\cap B}) = 0.9\n",
    "P(A∩B)=1−P(A∩B)=1−0.1=0.9\n",
    "  # frase verdadera"
   ]
  },
  {
   "cell_type": "markdown",
   "metadata": {},
   "source": [
    "## Reto 4\n",
    "\n",
    "* Si alguien viaja a China, la probabilidad de contraer Covid es del 1%\n",
    "* Si alguien viaja a Italia, la probabilidad de contraer Covid es del 20%\n",
    "\n",
    "Lanzo un dado con números 1, 2, 3, 4, 5, 6:\n",
    "* Si sale 1: Vuelo a Italia\n",
    "* Si no sale 1: Vuelo a China\n",
    "\n",
    "Durante mi viaje, contraje Covid. ¿Cuál es la probabilidad de que haya volado a China?"
   ]
  },
  {
   "cell_type": "code",
   "execution_count": 9,
   "metadata": {},
   "outputs": [
    {
     "ename": "SyntaxError",
     "evalue": "cannot assign to function call here. Maybe you meant '==' instead of '='? (3775186133.py, line 1)",
     "output_type": "error",
     "traceback": [
      "\u001b[1;36m  Cell \u001b[1;32mIn[9], line 1\u001b[1;36m\u001b[0m\n\u001b[1;33m    P(covid | China) = 0.01\u001b[0m\n\u001b[1;37m    ^\u001b[0m\n\u001b[1;31mSyntaxError\u001b[0m\u001b[1;31m:\u001b[0m cannot assign to function call here. Maybe you meant '==' instead of '='?\n"
     ]
    }
   ],
   "source": [
    "P(covid | China) = 0.01\n",
    "P(covid | Italia) = 0.20\n",
    "\n",
    "P(Italia) = 1 / 6\n",
    "P(China) = 5 / 6\n",
    "\n",
    "italia = china\n",
    "\n",
    "P(covid) = P(China) * P(covid | China) + P(Italia) * P(covid | Italia) = 5/6 * 0.01 + 1/6 * 0.20 \n",
    "\n",
    "P(china | covid) = P(covid | China) * P(China) / P(covid) = 0.01 * (5/6)"
   ]
  },
  {
   "cell_type": "markdown",
   "metadata": {},
   "source": [
    "## BONUS\n",
    "\n",
    "Lanzas 2 dados. ¿Cuál es la probabilidad de que la suma de los números sea 7? ¿Y 8? ¿Y 9? Luego simula 10000 veces y dibuja un gráfico de conteo.\n",
    "\n",
    "tu explicación aquí"
   ]
  },
  {
   "cell_type": "code",
   "execution_count": 15,
   "metadata": {},
   "outputs": [
    {
     "name": "stdout",
     "output_type": "stream",
     "text": [
      "{2: 255, 3: 525, 4: 793, 5: 1117, 6: 1474, 7: 1661, 8: 1401, 9: 1108, 10: 836, 11: 546, 12: 284}\n"
     ]
    }
   ],
   "source": [
    "import random\n",
    "\n",
    "suma = {resultado : 0 for resultado in range (2,13)}\n",
    "\n",
    "random.randint(1,6)\n",
    "\n",
    "for _ in range (10000):\n",
    "    lanzamiento = random.randint(1,6) + random.randint(1,6)\n",
    "    suma[lanzamiento] += 1\n",
    "\n",
    "print(suma)\n"
   ]
  }
 ],
 "metadata": {
  "kernelspec": {
   "display_name": "Python 3",
   "language": "python",
   "name": "python3"
  },
  "language_info": {
   "codemirror_mode": {
    "name": "ipython",
    "version": 3
   },
   "file_extension": ".py",
   "mimetype": "text/x-python",
   "name": "python",
   "nbconvert_exporter": "python",
   "pygments_lexer": "ipython3",
   "version": "3.12.4"
  },
  "toc": {
   "base_numbering": 1,
   "nav_menu": {},
   "number_sections": false,
   "sideBar": true,
   "skip_h1_title": false,
   "title_cell": "Table of Contents",
   "title_sidebar": "Contents",
   "toc_cell": false,
   "toc_position": {
    "height": "calc(100% - 180px)",
    "left": "10px",
    "top": "150px",
    "width": "296.475px"
   },
   "toc_section_display": true,
   "toc_window_display": false
  },
  "varInspector": {
   "cols": {
    "lenName": 16,
    "lenType": 16,
    "lenVar": 40
   },
   "kernels_config": {
    "python": {
     "delete_cmd_postfix": "",
     "delete_cmd_prefix": "del ",
     "library": "var_list.py",
     "varRefreshCmd": "print(var_dic_list())"
    },
    "r": {
     "delete_cmd_postfix": ") ",
     "delete_cmd_prefix": "rm(",
     "library": "var_list.r",
     "varRefreshCmd": "cat(var_dic_list()) "
    }
   },
   "types_to_exclude": [
    "module",
    "function",
    "builtin_function_or_method",
    "instance",
    "_Feature"
   ],
   "window_display": false
  }
 },
 "nbformat": 4,
 "nbformat_minor": 2
}
